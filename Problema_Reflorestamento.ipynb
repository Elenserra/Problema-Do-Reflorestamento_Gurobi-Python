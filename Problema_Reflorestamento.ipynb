{
 "cells": [
  {
   "cell_type": "code",
   "execution_count": 1,
   "id": "1721c5f0",
   "metadata": {},
   "outputs": [],
   "source": [
    "#importa a biblioteca do Gurobi\n",
    "import gurobipy as gp"
   ]
  },
  {
   "cell_type": "code",
   "execution_count": 12,
   "id": "6e1b2916",
   "metadata": {},
   "outputs": [],
   "source": [
    "#parâmetros do problema\n",
    "qntd_municipios = 4\n",
    "qntd_plantios = 4\n",
    "\n",
    "#vetor com o plantio\n",
    "vet_plantios = ['Pinus', 'Carvalho', 'Nogueira', 'Araucaria']\n",
    "\n",
    "#matriz com a renda de cada plantio por município\n",
    "mat_renda = [ [16, 12, 20, 18],\n",
    "              [14, 13, 24, 20],\n",
    "              [17, 10, 28, 20],\n",
    "              [12, 11, 18, 17] ]\n",
    "\n",
    "#área disponivel por municipio\n",
    "area_municipio = [1500, 1700, 900, 600]\n",
    "\n",
    "#produção anual esperada em hectáre por plantio\n",
    "prod_plantio = [ [17, 14, 10, 9],\n",
    "                 [15, 16, 12, 11],\n",
    "                 [13, 12, 14, 8],\n",
    "                 [10, 11, 8, 6]  ]\n",
    "\n",
    "#produção mínima de cada plantio\n",
    "prod_minima = [225, 9, 4.8, 3.5]\n",
    "\n",
    "#rótulo dos municípios\n",
    "municipios = list()\n",
    "for i in range(qntd_municipios):\n",
    "    municipios.append(\"Cidade {}\".format(i+1))\n",
    "\n",
    "#rótulo dos plantios\n",
    "plantios = list()\n",
    "for j in range(qntd_plantios):\n",
    "    plantios.append(\"Plantio {}\".format(j+1))\n",
    "    \n",
    "#dicionário com os plantios\n",
    "dic_plantios = dict()\n",
    "for j, valor in enumerate(vet_plantios):\n",
    "    rotulo = plantios[j]\n",
    "    dic_plantios[rotulo] = valor\n",
    "\n",
    "#dicionário com as rendas \n",
    "dic_renda = dict()\n",
    "for i in range(qntd_municipios):\n",
    "    for j in range(qntd_plantios):\n",
    "        rot_municipios = municipios[i]\n",
    "        rot_plantios = plantios[j]\n",
    "        dic_renda[rot_municipios, rot_plantios] = mat_renda[i][j]\n",
    "\n",
    "#dicionário com as areas disponiveis\n",
    "dic_area = dict()\n",
    "for i in range(qntd_municipios):\n",
    "    rotulo = municipios[i]\n",
    "    dic_area[rotulo] = area_municipio[i]\n",
    "    \n",
    "#dicionário com as produções de cada plantio por municipio \n",
    "dic_prod_plantio = dict()\n",
    "for i in range(qntd_municipios):\n",
    "    for j in range(qntd_plantios):\n",
    "        rot_municipios = municipios[i]\n",
    "        rot_plantios = plantios[j]\n",
    "        dic_prod_plantio[rot_municipios, rot_plantios] = prod_plantio[i][j]\n",
    "\n",
    "#dicionario com as produções mínimas esperadas de cada plantio\n",
    "dic_prod_minima = dict()\n",
    "for j in range(qntd_plantios):\n",
    "    rotulo = plantios[j]\n",
    "    dic_prod_minima[rotulo] = prod_minima[j]\n",
    "    "
   ]
  },
  {
   "cell_type": "code",
   "execution_count": 13,
   "id": "5c444f8e",
   "metadata": {},
   "outputs": [],
   "source": [
    "#criando o modelo\n",
    "m = gp.Model(\"Problema do Reflorestamento\")\n",
    "m.setParam(gp.GRB.Param.OutputFlag, 0)\n",
    "\n",
    "#variáveis de decisão\n",
    "#Xij => i: municípios e j: plantios\n",
    "x = m.addVars(municipios, plantios, vtype=gp.GRB.INTEGER)\n",
    "\n",
    "#restrições:\n",
    "#1)quanto a área disponível por municipio \n",
    "r1 = m.addConstrs( gp.quicksum(x[i,j] for j in plantios) <= dic_area[i] for i in municipios )\n",
    "\n",
    "#2)quanto a produção esperada por hectare\n",
    "#cada plantio tem uma produção mínima\n",
    "r2 = m.addConstrs( gp.quicksum(x[i,j] * dic_prod_plantio[i,j] for i in municipios) >= dic_prod_minima[j] for j in plantios )\n",
    "\n",
    "#função objetivo\n",
    "#maior renda obtida das áreas de plantio por município\n",
    "m.setObjective(gp.quicksum( x[i,j] * dic_renda[i,j] for i in municipios for j in plantios ), \n",
    "              sense=gp.GRB.MAXIMIZE\n",
    ")"
   ]
  },
  {
   "cell_type": "code",
   "execution_count": 14,
   "id": "9efffd29",
   "metadata": {},
   "outputs": [
    {
     "name": "stdout",
     "output_type": "stream",
     "text": [
      "\n",
      "Total da renda:  106734.0 \n",
      "\n",
      "Cidade 1\n",
      "Produzir 13 de Pinus\n",
      "Produzir 1487 de Nogueira\n",
      "\n",
      "Cidade 2\n",
      "Produzir 1700 de Nogueira\n",
      "\n",
      "Cidade 3\n",
      "Produzir 900 de Nogueira\n",
      "\n",
      "Cidade 4\n",
      "Produzir 1 de Pinus\n",
      "Produzir 1 de Carvalho\n",
      "Produzir 597 de Nogueira\n",
      "Produzir 1 de Araucaria\n",
      "\n"
     ]
    }
   ],
   "source": [
    "#executa o modelo\n",
    "m.optimize()\n",
    "\n",
    "#valor da função objetivo\n",
    "print(\"\\nTotal da renda: \", m.objVal, \"\\n\")\n",
    "\n",
    "#quantidade de plantas a serem produzidas em cada município\n",
    "for i in municipios:\n",
    "    print(i)\n",
    "    for j in plantios:\n",
    "        qntd = round(x[i,j].X)\n",
    "        if qntd>0:\n",
    "            print(\"Produzir {} de {}\".format(qntd, dic_plantios[j]))\n",
    "    print(\"\")"
   ]
  },
  {
   "cell_type": "code",
   "execution_count": 15,
   "id": "a6afdfb3",
   "metadata": {},
   "outputs": [
    {
     "name": "stdout",
     "output_type": "stream",
     "text": [
      "Cidade 1 - area utilizada:  1500.0\n",
      "Cidade 2 - area utilizada:  1700.0\n",
      "Cidade 3 - area utilizada:  900.0\n",
      "Cidade 4 - area utilizada:  600.0\n"
     ]
    }
   ],
   "source": [
    "#area utilizada por cada cidade\n",
    "for i in municipios:\n",
    "    print(i, \"- area utilizada: \", dic_area[i] - r1[i].Slack)"
   ]
  },
  {
   "cell_type": "code",
   "execution_count": 16,
   "id": "166e304b",
   "metadata": {},
   "outputs": [
    {
     "name": "stdout",
     "output_type": "stream",
     "text": [
      "Pinus - produção utilizada: 231.0 m³\n",
      "Carvalho - produção utilizada: 11.0 m³\n",
      "Nogueira - produção utilizada: 52646.0 m³\n",
      "Araucaria - produção utilizada: 6.0 m³\n"
     ]
    }
   ],
   "source": [
    "#produção utilizada por cada plantio\n",
    "for j in plantios:\n",
    "    print(dic_plantios[j], \"- produção utilizada: {} m³\".format(dic_prod_minima[j] - r2[j].Slack))\n",
    "    "
   ]
  },
  {
   "cell_type": "code",
   "execution_count": null,
   "id": "dec37e9c",
   "metadata": {},
   "outputs": [],
   "source": []
  },
  {
   "cell_type": "code",
   "execution_count": null,
   "id": "5435fe8e",
   "metadata": {},
   "outputs": [],
   "source": []
  }
 ],
 "metadata": {
  "kernelspec": {
   "display_name": "Python 3 (ipykernel)",
   "language": "python",
   "name": "python3"
  },
  "language_info": {
   "codemirror_mode": {
    "name": "ipython",
    "version": 3
   },
   "file_extension": ".py",
   "mimetype": "text/x-python",
   "name": "python",
   "nbconvert_exporter": "python",
   "pygments_lexer": "ipython3",
   "version": "3.10.6"
  }
 },
 "nbformat": 4,
 "nbformat_minor": 5
}
